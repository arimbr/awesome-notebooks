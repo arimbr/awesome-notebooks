{
 "cells": [
  {
   "cell_type": "markdown",
   "metadata": {},
   "source": [
    "# 📰 Scan the mood, score the news\n",
    "\n",
    "You cannot read all the news. It's simply not possible. \n",
    "So, let's try to give the job to a machine that will scan the mood.\n",
    "\n",
    "What you will get here is global average score of that goes from -1 (negative) to 1 (positive). \n",
    "We use natural language processing. \n",
    "\n"
   ]
  },
  {
   "cell_type": "code",
   "execution_count": 1,
   "metadata": {},
   "outputs": [],
   "source": [
    "stock =\"TSLA\""
   ]
  },
  {
   "cell_type": "markdown",
   "metadata": {},
   "source": [
    "## Get the news from CityFalcon 👇\n",
    "City Falcon is a news agregator.<br>\n",
    "By default, you can with use our account on CityFalcon for test purpose."
   ]
  },
  {
   "cell_type": "code",
   "execution_count": 2,
   "metadata": {},
   "outputs": [],
   "source": [
    "import naas_drivers"
   ]
  },
  {
   "cell_type": "code",
   "execution_count": 3,
   "metadata": {},
   "outputs": [
    {
     "data": {
      "text/html": [
       "<div>\n",
       "<style scoped>\n",
       "    .dataframe tbody tr th:only-of-type {\n",
       "        vertical-align: middle;\n",
       "    }\n",
       "\n",
       "    .dataframe tbody tr th {\n",
       "        vertical-align: top;\n",
       "    }\n",
       "\n",
       "    .dataframe thead th {\n",
       "        text-align: right;\n",
       "    }\n",
       "</style>\n",
       "<table border=\"1\" class=\"dataframe\">\n",
       "  <thead>\n",
       "    <tr style=\"text-align: right;\">\n",
       "      <th></th>\n",
       "      <th>logo</th>\n",
       "      <th>text</th>\n",
       "      <th>row_link</th>\n",
       "    </tr>\n",
       "  </thead>\n",
       "  <tbody>\n",
       "    <tr>\n",
       "      <th>0</th>\n",
       "      <td>https://cityfalconproduction.blob.core.windows...</td>\n",
       "      <td>LONG POSITION FOR KAVAUSDT - The Bitcoin Stree...</td>\n",
       "      <td>https://thebitcoinstreetjournal.com/long-posit...</td>\n",
       "    </tr>\n",
       "    <tr>\n",
       "      <th>1</th>\n",
       "      <td>https://cityfalconproduction.blob.core.windows...</td>\n",
       "      <td>Tesla squeezes 5% more power into 2021 Model 3...</td>\n",
       "      <td>https://thenextweb.com/shift/2020/11/11/tesla-...</td>\n",
       "    </tr>\n",
       "    <tr>\n",
       "      <th>2</th>\n",
       "      <td>https://cityfalconproduction.blob.core.windows...</td>\n",
       "      <td>Tesla Giga Shanghai’s Model 3 production run-r...</td>\n",
       "      <td>https://www.teslarati.com/tesla-model-3-produc...</td>\n",
       "    </tr>\n",
       "    <tr>\n",
       "      <th>3</th>\n",
       "      <td>https://cityfalconproduction.blob.core.windows...</td>\n",
       "      <td>linkbtc finally looking like its worth longing...</td>\n",
       "      <td>https://thebitcoinstreetjournal.com/linkbtc-fi...</td>\n",
       "    </tr>\n",
       "    <tr>\n",
       "      <th>4</th>\n",
       "      <td>https://cityfalconproduction.blob.core.windows...</td>\n",
       "      <td>Where have we seen this before? - The Bitcoin ...</td>\n",
       "      <td>https://thebitcoinstreetjournal.com/where-have...</td>\n",
       "    </tr>\n",
       "    <tr>\n",
       "      <th>...</th>\n",
       "      <td>...</td>\n",
       "      <td>...</td>\n",
       "      <td>...</td>\n",
       "    </tr>\n",
       "    <tr>\n",
       "      <th>74</th>\n",
       "      <td>https://cityfalconproduction.blob.core.windows...</td>\n",
       "      <td>Tesla’s entry-level wages for Giga Berlin are ...</td>\n",
       "      <td>https://www.teslarati.com/tesla-giga-berlin-st...</td>\n",
       "    </tr>\n",
       "    <tr>\n",
       "      <th>75</th>\n",
       "      <td>https://cityfalconproduction.blob.core.windows...</td>\n",
       "      <td>ethusdt binancce - The Bitcoin Street Journal</td>\n",
       "      <td>https://thebitcoinstreetjournal.com/ethusdt-bi...</td>\n",
       "    </tr>\n",
       "    <tr>\n",
       "      <th>76</th>\n",
       "      <td>https://cityfalconproduction.blob.core.windows...</td>\n",
       "      <td>Elon Musk: Tesla's RNA vaccine printer for Cur...</td>\n",
       "      <td>https://electrek.co/2020/11/10/elon-musk-tesla...</td>\n",
       "    </tr>\n",
       "    <tr>\n",
       "      <th>77</th>\n",
       "      <td>https://cityfalconproduction.blob.core.windows...</td>\n",
       "      <td>Tesla is looking to switch to AMD ‘Navi’ chip ...</td>\n",
       "      <td>https://toptech.news/tesla-is-looking-to-switc...</td>\n",
       "    </tr>\n",
       "    <tr>\n",
       "      <th>78</th>\n",
       "      <td>https://cityfalconproduction.blob.core.windows...</td>\n",
       "      <td>Tesla finally acknowledges eMMC failure with i...</td>\n",
       "      <td>https://toptech.news/tesla-finally-acknowledge...</td>\n",
       "    </tr>\n",
       "  </tbody>\n",
       "</table>\n",
       "<p>79 rows × 3 columns</p>\n",
       "</div>"
      ],
      "text/plain": [
       "                                                 logo  \\\n",
       "0   https://cityfalconproduction.blob.core.windows...   \n",
       "1   https://cityfalconproduction.blob.core.windows...   \n",
       "2   https://cityfalconproduction.blob.core.windows...   \n",
       "3   https://cityfalconproduction.blob.core.windows...   \n",
       "4   https://cityfalconproduction.blob.core.windows...   \n",
       "..                                                ...   \n",
       "74  https://cityfalconproduction.blob.core.windows...   \n",
       "75  https://cityfalconproduction.blob.core.windows...   \n",
       "76  https://cityfalconproduction.blob.core.windows...   \n",
       "77  https://cityfalconproduction.blob.core.windows...   \n",
       "78  https://cityfalconproduction.blob.core.windows...   \n",
       "\n",
       "                                                 text  \\\n",
       "0   LONG POSITION FOR KAVAUSDT - The Bitcoin Stree...   \n",
       "1   Tesla squeezes 5% more power into 2021 Model 3...   \n",
       "2   Tesla Giga Shanghai’s Model 3 production run-r...   \n",
       "3   linkbtc finally looking like its worth longing...   \n",
       "4   Where have we seen this before? - The Bitcoin ...   \n",
       "..                                                ...   \n",
       "74  Tesla’s entry-level wages for Giga Berlin are ...   \n",
       "75      ethusdt binancce - The Bitcoin Street Journal   \n",
       "76  Elon Musk: Tesla's RNA vaccine printer for Cur...   \n",
       "77  Tesla is looking to switch to AMD ‘Navi’ chip ...   \n",
       "78  Tesla finally acknowledges eMMC failure with i...   \n",
       "\n",
       "                                             row_link  \n",
       "0   https://thebitcoinstreetjournal.com/long-posit...  \n",
       "1   https://thenextweb.com/shift/2020/11/11/tesla-...  \n",
       "2   https://www.teslarati.com/tesla-model-3-produc...  \n",
       "3   https://thebitcoinstreetjournal.com/linkbtc-fi...  \n",
       "4   https://thebitcoinstreetjournal.com/where-have...  \n",
       "..                                                ...  \n",
       "74  https://www.teslarati.com/tesla-giga-berlin-st...  \n",
       "75  https://thebitcoinstreetjournal.com/ethusdt-bi...  \n",
       "76  https://electrek.co/2020/11/10/elon-musk-tesla...  \n",
       "77  https://toptech.news/tesla-is-looking-to-switc...  \n",
       "78  https://toptech.news/tesla-finally-acknowledge...  \n",
       "\n",
       "[79 rows x 3 columns]"
      ]
     },
     "execution_count": 3,
     "metadata": {},
     "output_type": "execute_result"
    }
   ],
   "source": [
    "import os\n",
    "naas_drivers.cityfalcon.connect(os.environ.get(\"CITYFALCON_KEY\", None))\n",
    "table_news = naas_drivers.cityfalcon.get(stock, fields=[\"logo\", \"title\", \"link\"])\n",
    "table_news.rename(columns={'title':'text'}, inplace=True)\n",
    "table_news.rename(columns={'link':'row_link'}, inplace=True)\n",
    "table_news"
   ]
  },
  {
   "cell_type": "code",
   "execution_count": 4,
   "metadata": {},
   "outputs": [],
   "source": [
    "table_news_scored =  naas_drivers.sentiment.get(table_news, column_name=\"text\")"
   ]
  },
  {
   "cell_type": "code",
   "execution_count": 5,
   "metadata": {},
   "outputs": [
    {
     "data": {
      "text/plain": [
       "0.12155443037974684"
      ]
     },
     "execution_count": 5,
     "metadata": {},
     "output_type": "execute_result"
    }
   ],
   "source": [
    "score_news = table_news_scored[\"Score\"].mean()\n",
    "score_news"
   ]
  },
  {
   "cell_type": "code",
   "execution_count": 6,
   "metadata": {},
   "outputs": [
    {
     "data": {
      "text/plain": [
       "'Positive'"
      ]
     },
     "execution_count": 6,
     "metadata": {},
     "output_type": "execute_result"
    }
   ],
   "source": [
    "sentiment_news = naas_drivers.sentiment.categorize(score_news)\n",
    "sentiment_news"
   ]
  },
  {
   "cell_type": "markdown",
   "metadata": {},
   "source": [
    "# Create the news hotlist 🔥"
   ]
  },
  {
   "cell_type": "code",
   "execution_count": 7,
   "metadata": {},
   "outputs": [
    {
     "data": {
      "text/html": [
       "<div>\n",
       "<style scoped>\n",
       "    .dataframe tbody tr th:only-of-type {\n",
       "        vertical-align: middle;\n",
       "    }\n",
       "\n",
       "    .dataframe tbody tr th {\n",
       "        vertical-align: top;\n",
       "    }\n",
       "\n",
       "    .dataframe thead th {\n",
       "        text-align: right;\n",
       "    }\n",
       "</style>\n",
       "<table border=\"1\" class=\"dataframe\">\n",
       "  <thead>\n",
       "    <tr style=\"text-align: right;\">\n",
       "      <th></th>\n",
       "      <th>logo</th>\n",
       "      <th>text</th>\n",
       "      <th>row_link</th>\n",
       "      <th>senti_score</th>\n",
       "    </tr>\n",
       "  </thead>\n",
       "  <tbody>\n",
       "    <tr>\n",
       "      <th>0</th>\n",
       "      <td>https://cityfalconproduction.blob.core.windows...</td>\n",
       "      <td>LONG POSITION FOR KAVAUSDT - The Bitcoin Stree...</td>\n",
       "      <td>https://thebitcoinstreetjournal.com/long-posit...</td>\n",
       "      <td>{'neg': 0.0, 'neu': 1.0, 'pos': 0.0, 'compound...</td>\n",
       "    </tr>\n",
       "    <tr>\n",
       "      <th>1</th>\n",
       "      <td>https://cityfalconproduction.blob.core.windows...</td>\n",
       "      <td>Tesla squeezes 5% more power into 2021 Model 3...</td>\n",
       "      <td>https://thenextweb.com/shift/2020/11/11/tesla-...</td>\n",
       "      <td>{'neg': 0.0, 'neu': 0.813, 'pos': 0.187, 'comp...</td>\n",
       "    </tr>\n",
       "    <tr>\n",
       "      <th>2</th>\n",
       "      <td>https://cityfalconproduction.blob.core.windows...</td>\n",
       "      <td>Tesla Giga Shanghai’s Model 3 production run-r...</td>\n",
       "      <td>https://www.teslarati.com/tesla-model-3-produc...</td>\n",
       "      <td>{'neg': 0.0, 'neu': 0.795, 'pos': 0.205, 'comp...</td>\n",
       "    </tr>\n",
       "    <tr>\n",
       "      <th>3</th>\n",
       "      <td>https://cityfalconproduction.blob.core.windows...</td>\n",
       "      <td>linkbtc finally looking like its worth longing...</td>\n",
       "      <td>https://thebitcoinstreetjournal.com/linkbtc-fi...</td>\n",
       "      <td>{'neg': 0.081, 'neu': 0.593, 'pos': 0.326, 'co...</td>\n",
       "    </tr>\n",
       "    <tr>\n",
       "      <th>4</th>\n",
       "      <td>https://cityfalconproduction.blob.core.windows...</td>\n",
       "      <td>Where have we seen this before? - The Bitcoin ...</td>\n",
       "      <td>https://thebitcoinstreetjournal.com/where-have...</td>\n",
       "      <td>{'neg': 0.0, 'neu': 1.0, 'pos': 0.0, 'compound...</td>\n",
       "    </tr>\n",
       "  </tbody>\n",
       "</table>\n",
       "</div>"
      ],
      "text/plain": [
       "                                                logo  \\\n",
       "0  https://cityfalconproduction.blob.core.windows...   \n",
       "1  https://cityfalconproduction.blob.core.windows...   \n",
       "2  https://cityfalconproduction.blob.core.windows...   \n",
       "3  https://cityfalconproduction.blob.core.windows...   \n",
       "4  https://cityfalconproduction.blob.core.windows...   \n",
       "\n",
       "                                                text  \\\n",
       "0  LONG POSITION FOR KAVAUSDT - The Bitcoin Stree...   \n",
       "1  Tesla squeezes 5% more power into 2021 Model 3...   \n",
       "2  Tesla Giga Shanghai’s Model 3 production run-r...   \n",
       "3  linkbtc finally looking like its worth longing...   \n",
       "4  Where have we seen this before? - The Bitcoin ...   \n",
       "\n",
       "                                            row_link  \\\n",
       "0  https://thebitcoinstreetjournal.com/long-posit...   \n",
       "1  https://thenextweb.com/shift/2020/11/11/tesla-...   \n",
       "2  https://www.teslarati.com/tesla-model-3-produc...   \n",
       "3  https://thebitcoinstreetjournal.com/linkbtc-fi...   \n",
       "4  https://thebitcoinstreetjournal.com/where-have...   \n",
       "\n",
       "                                         senti_score  \n",
       "0  {'neg': 0.0, 'neu': 1.0, 'pos': 0.0, 'compound...  \n",
       "1  {'neg': 0.0, 'neu': 0.813, 'pos': 0.187, 'comp...  \n",
       "2  {'neg': 0.0, 'neu': 0.795, 'pos': 0.205, 'comp...  \n",
       "3  {'neg': 0.081, 'neu': 0.593, 'pos': 0.326, 'co...  \n",
       "4  {'neg': 0.0, 'neu': 1.0, 'pos': 0.0, 'compound...  "
      ]
     },
     "execution_count": 7,
     "metadata": {},
     "output_type": "execute_result"
    }
   ],
   "source": [
    "table_news_email = table_news[:5]\n",
    "table_news_email"
   ]
  }
 ],
 "metadata": {
  "kernelspec": {
   "display_name": "Python 3",
   "language": "python",
   "name": "python3"
  },
  "language_info": {
   "codemirror_mode": {
    "name": "ipython",
    "version": 3
   },
   "file_extension": ".py",
   "mimetype": "text/x-python",
   "name": "python",
   "nbconvert_exporter": "python",
   "pygments_lexer": "ipython3",
   "version": "3.8.6"
  }
 },
 "nbformat": 4,
 "nbformat_minor": 4
}
