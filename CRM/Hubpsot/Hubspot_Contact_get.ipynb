{
 "cells": [
  {
   "cell_type": "markdown",
   "metadata": {},
   "source": [
    "<img width=\"10%\" alt=\"Naas\" src=\"https://landen.imgix.net/jtci2pxwjczr/assets/5ice39g4.png?w=160\"/>"
   ]
  },
  {
   "cell_type": "markdown",
   "metadata": {},
   "source": [
    "<img src=\"https://upload.wikimedia.org/wikipedia/commons/thumb/3/3f/HubSpot_Logo.svg/220px-HubSpot_Logo.svg.png\" alt=\"drawing\" width=\"200\" align='left'/>"
   ]
  },
  {
   "cell_type": "code",
   "execution_count": 1,
   "metadata": {},
   "outputs": [],
   "source": [
    "%run _Hubspot_Driver.ipynb"
   ]
  },
  {
   "cell_type": "markdown",
   "metadata": {},
   "source": [
    "# Hubspot - Get contact"
   ]
  },
  {
   "cell_type": "code",
   "execution_count": 2,
   "metadata": {},
   "outputs": [],
   "source": [
    "from naas_drivers import *\n",
    "\n",
    "# Run notebook to get credentials\n",
    "%run _Hubspot_Credentials.ipynb\n",
    "\n",
    "# Connect to hubspot\n",
    "hs = hubspot.connect(auth_token)"
   ]
  },
  {
   "cell_type": "code",
   "execution_count": 3,
   "metadata": {},
   "outputs": [
    {
     "data": {
      "text/html": [
       "<div>\n",
       "<style scoped>\n",
       "    .dataframe tbody tr th:only-of-type {\n",
       "        vertical-align: middle;\n",
       "    }\n",
       "\n",
       "    .dataframe tbody tr th {\n",
       "        vertical-align: top;\n",
       "    }\n",
       "\n",
       "    .dataframe thead th {\n",
       "        text-align: right;\n",
       "    }\n",
       "</style>\n",
       "<table border=\"1\" class=\"dataframe\">\n",
       "  <thead>\n",
       "    <tr style=\"text-align: right;\">\n",
       "      <th></th>\n",
       "      <th>createdate</th>\n",
       "      <th>email</th>\n",
       "      <th>firstname</th>\n",
       "      <th>hs_object_id</th>\n",
       "      <th>lastmodifieddate</th>\n",
       "      <th>lastname</th>\n",
       "    </tr>\n",
       "  </thead>\n",
       "  <tbody>\n",
       "    <tr>\n",
       "      <th>0</th>\n",
       "      <td>2016-08-10T11:53:52.168Z</td>\n",
       "      <td>bh+3238689@hubspot.com</td>\n",
       "      <td>Brian</td>\n",
       "      <td>52</td>\n",
       "      <td>2020-04-23T16:50:11.379Z</td>\n",
       "      <td>Halligan (Sample Contact)</td>\n",
       "    </tr>\n",
       "    <tr>\n",
       "      <th>1</th>\n",
       "      <td>2016-08-10T11:43:19.045Z</td>\n",
       "      <td>lamanufacturevitre@gmail.com</td>\n",
       "      <td>LaManufacture</td>\n",
       "      <td>101</td>\n",
       "      <td>2016-08-10T11:49:01.948Z</td>\n",
       "      <td>None</td>\n",
       "    </tr>\n",
       "    <tr>\n",
       "      <th>2</th>\n",
       "      <td>2016-08-10T11:48:55.412Z</td>\n",
       "      <td>bmadjar@cashlab.fr</td>\n",
       "      <td>Benjamin</td>\n",
       "      <td>151</td>\n",
       "      <td>2020-05-15T07:32:48.226Z</td>\n",
       "      <td>CashLab</td>\n",
       "    </tr>\n",
       "    <tr>\n",
       "      <th>3</th>\n",
       "      <td>2016-08-10T11:48:55.412Z</td>\n",
       "      <td>ll@aedeus.com</td>\n",
       "      <td>Laurent</td>\n",
       "      <td>152</td>\n",
       "      <td>2016-08-10T11:49:07.273Z</td>\n",
       "      <td>Leloup</td>\n",
       "    </tr>\n",
       "    <tr>\n",
       "      <th>4</th>\n",
       "      <td>2016-08-10T11:48:55.412Z</td>\n",
       "      <td>alexandre.sortais@mcc-soft.com</td>\n",
       "      <td>Alexandre</td>\n",
       "      <td>201</td>\n",
       "      <td>2020-04-23T16:50:13.058Z</td>\n",
       "      <td>Sortais</td>\n",
       "    </tr>\n",
       "    <tr>\n",
       "      <th>...</th>\n",
       "      <td>...</td>\n",
       "      <td>...</td>\n",
       "      <td>...</td>\n",
       "      <td>...</td>\n",
       "      <td>...</td>\n",
       "      <td>...</td>\n",
       "    </tr>\n",
       "    <tr>\n",
       "      <th>7976</th>\n",
       "      <td>2020-11-20T11:12:14.990Z</td>\n",
       "      <td>myriam.chapotton@rh-competences.com</td>\n",
       "      <td>Myriam</td>\n",
       "      <td>250451</td>\n",
       "      <td>2020-11-20T11:12:50.605Z</td>\n",
       "      <td>CHAPOTTON</td>\n",
       "    </tr>\n",
       "    <tr>\n",
       "      <th>7977</th>\n",
       "      <td>2020-11-20T11:22:09.984Z</td>\n",
       "      <td>cjoy@groupe-igs.fr</td>\n",
       "      <td>Camille</td>\n",
       "      <td>250501</td>\n",
       "      <td>2020-11-20T13:25:48.288Z</td>\n",
       "      <td>JOY</td>\n",
       "    </tr>\n",
       "    <tr>\n",
       "      <th>7978</th>\n",
       "      <td>2020-11-20T11:22:18.247Z</td>\n",
       "      <td>a.chomel@psbedu.paris</td>\n",
       "      <td>Aymeric</td>\n",
       "      <td>250551</td>\n",
       "      <td>2020-11-20T13:25:57.598Z</td>\n",
       "      <td>CHOMEL</td>\n",
       "    </tr>\n",
       "    <tr>\n",
       "      <th>7979</th>\n",
       "      <td>2020-11-20T15:59:00.810Z</td>\n",
       "      <td>None</td>\n",
       "      <td>Maelle</td>\n",
       "      <td>251651</td>\n",
       "      <td>2020-11-20T15:59:38.541Z</td>\n",
       "      <td>Berrot</td>\n",
       "    </tr>\n",
       "    <tr>\n",
       "      <th>7980</th>\n",
       "      <td>2020-11-24T10:08:35.015Z</td>\n",
       "      <td>test_bis@cashstory.com</td>\n",
       "      <td>Test 2</td>\n",
       "      <td>252501</td>\n",
       "      <td>2020-11-24T10:09:26.513Z</td>\n",
       "      <td>CASHSTORY</td>\n",
       "    </tr>\n",
       "  </tbody>\n",
       "</table>\n",
       "<p>7981 rows × 6 columns</p>\n",
       "</div>"
      ],
      "text/plain": [
       "                    createdate                                email  \\\n",
       "0     2016-08-10T11:53:52.168Z               bh+3238689@hubspot.com   \n",
       "1     2016-08-10T11:43:19.045Z         lamanufacturevitre@gmail.com   \n",
       "2     2016-08-10T11:48:55.412Z                   bmadjar@cashlab.fr   \n",
       "3     2016-08-10T11:48:55.412Z                        ll@aedeus.com   \n",
       "4     2016-08-10T11:48:55.412Z       alexandre.sortais@mcc-soft.com   \n",
       "...                        ...                                  ...   \n",
       "7976  2020-11-20T11:12:14.990Z  myriam.chapotton@rh-competences.com   \n",
       "7977  2020-11-20T11:22:09.984Z                   cjoy@groupe-igs.fr   \n",
       "7978  2020-11-20T11:22:18.247Z                a.chomel@psbedu.paris   \n",
       "7979  2020-11-20T15:59:00.810Z                                 None   \n",
       "7980  2020-11-24T10:08:35.015Z               test_bis@cashstory.com   \n",
       "\n",
       "          firstname hs_object_id          lastmodifieddate  \\\n",
       "0             Brian           52  2020-04-23T16:50:11.379Z   \n",
       "1     LaManufacture          101  2016-08-10T11:49:01.948Z   \n",
       "2          Benjamin          151  2020-05-15T07:32:48.226Z   \n",
       "3           Laurent          152  2016-08-10T11:49:07.273Z   \n",
       "4         Alexandre          201  2020-04-23T16:50:13.058Z   \n",
       "...             ...          ...                       ...   \n",
       "7976         Myriam       250451  2020-11-20T11:12:50.605Z   \n",
       "7977        Camille       250501  2020-11-20T13:25:48.288Z   \n",
       "7978        Aymeric       250551  2020-11-20T13:25:57.598Z   \n",
       "7979         Maelle       251651  2020-11-20T15:59:38.541Z   \n",
       "7980         Test 2       252501  2020-11-24T10:09:26.513Z   \n",
       "\n",
       "                       lastname  \n",
       "0     Halligan (Sample Contact)  \n",
       "1                          None  \n",
       "2                       CashLab  \n",
       "3                        Leloup  \n",
       "4                       Sortais  \n",
       "...                         ...  \n",
       "7976                  CHAPOTTON  \n",
       "7977                        JOY  \n",
       "7978                     CHOMEL  \n",
       "7979                     Berrot  \n",
       "7980                  CASHSTORY  \n",
       "\n",
       "[7981 rows x 6 columns]"
      ]
     },
     "execution_count": 3,
     "metadata": {},
     "output_type": "execute_result"
    }
   ],
   "source": [
    "# Get all contacts\n",
    "df_contact = hs.contacts.get_all()\n",
    "df_contact"
   ]
  },
  {
   "cell_type": "code",
   "execution_count": 4,
   "metadata": {},
   "outputs": [
    {
     "data": {
      "text/plain": [
       "{'id': '252501',\n",
       " 'properties': {'createdate': '2020-11-24T10:08:35.015Z',\n",
       "  'email': 'test_bis@cashstory.com',\n",
       "  'firstname': 'Test 2',\n",
       "  'hs_object_id': '252501',\n",
       "  'lastmodifieddate': '2020-11-24T10:09:26.513Z',\n",
       "  'lastname': 'CASHSTORY'},\n",
       " 'createdAt': '2020-11-24T10:08:35.015Z',\n",
       " 'updatedAt': '2020-11-24T10:09:26.513Z',\n",
       " 'archived': False}"
      ]
     },
     "execution_count": 4,
     "metadata": {},
     "output_type": "execute_result"
    }
   ],
   "source": [
    "# Get single contact\n",
    "contact_id = '252501'\n",
    "hs.contacts.get(contact_id)"
   ]
  }
 ],
 "metadata": {
  "kernelspec": {
   "display_name": "Python 3",
   "language": "python",
   "name": "python3"
  },
  "language_info": {
   "codemirror_mode": {
    "name": "ipython",
    "version": 3
   },
   "file_extension": ".py",
   "mimetype": "text/x-python",
   "name": "python",
   "nbconvert_exporter": "python",
   "pygments_lexer": "ipython3",
   "version": "3.8.6"
  }
 },
 "nbformat": 4,
 "nbformat_minor": 4
}
