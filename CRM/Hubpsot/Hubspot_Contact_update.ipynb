{
 "cells": [
  {
   "cell_type": "markdown",
   "metadata": {},
   "source": [
    "<img width=\"10%\" alt=\"Naas\" src=\"https://landen.imgix.net/jtci2pxwjczr/assets/5ice39g4.png?w=160\"/>"
   ]
  },
  {
   "cell_type": "markdown",
   "metadata": {},
   "source": [
    "<img src=\"https://upload.wikimedia.org/wikipedia/commons/thumb/3/3f/HubSpot_Logo.svg/220px-HubSpot_Logo.svg.png\" alt=\"drawing\" width=\"200\" align='left'/>"
   ]
  },
  {
   "cell_type": "code",
   "execution_count": 5,
   "metadata": {},
   "outputs": [],
   "source": [
    "%run _Hubspot_Driver.ipynb"
   ]
  },
  {
   "cell_type": "markdown",
   "metadata": {},
   "source": [
    "# Hubspot - Update contact"
   ]
  },
  {
   "cell_type": "code",
   "execution_count": 6,
   "metadata": {},
   "outputs": [],
   "source": [
    "from naas_drivers import *\n",
    "\n",
    "# Run notebook to get credentials\n",
    "%run _Hubspot_Credentials.ipynb\n",
    "\n",
    "# Connect to hubspot\n",
    "hs = hubspot.connect(auth_token)"
   ]
  },
  {
   "cell_type": "code",
   "execution_count": 8,
   "metadata": {},
   "outputs": [
    {
     "name": "stdout",
     "output_type": "stream",
     "text": [
      "Contact id (id=252501) successfully updated in Hubspot.\n"
     ]
    },
    {
     "data": {
      "text/plain": [
       "{'id': '252501',\n",
       " 'properties': {'company': 'CASHSTORY',\n",
       "  'email': 'test_bis@cashstory.com',\n",
       "  'firstname': 'Test 2',\n",
       "  'lastmodifieddate': '2020-11-24T10:09:26.513Z',\n",
       "  'lastname': 'CASHSTORY',\n",
       "  'phone': '+33600000000',\n",
       "  'website': 'http://cashstory.com'},\n",
       " 'createdAt': '2020-11-24T10:08:35.015Z',\n",
       " 'updatedAt': '2020-11-24T10:09:26.513Z',\n",
       " 'archived': False}"
      ]
     },
     "execution_count": 8,
     "metadata": {},
     "output_type": "execute_result"
    }
   ],
   "source": [
    "# With patch method\n",
    "contact_id = \"252501\"\n",
    "email = \"Test_bis@cashstory.com\"\n",
    "firstname = \"Test 2\"\n",
    "lastname ='CASHSTORY'\n",
    "phone = \"+33600000000\"\n",
    "jobtitle = None\n",
    "website = \"cashstory.com\"\n",
    "company = 'CASHSTORY'\n",
    "hubspot_owner_id = None\n",
    "\n",
    "update_contact = {\"properties\": \n",
    "                  {\n",
    "                    \"email\": email,\n",
    "                    \"firstname\": firstname,\n",
    "                    \"lastname\": lastname,\n",
    "                    \"jobtitle\": jobtitle,\n",
    "                    \"website\": website,\n",
    "                    \"company\": company,\n",
    "                    \"phone\": phone,\n",
    "                    \"hubspot_owner_id\": hubspot_owner_id,\n",
    "                   }\n",
    "                 }\n",
    "\n",
    "hs.contacts.patch(contact_id, update_contact)"
   ]
  },
  {
   "cell_type": "code",
   "execution_count": 9,
   "metadata": {},
   "outputs": [],
   "source": [
    "# # With update method\n",
    "# contact_id = hs.contacts.update_contact(contact_id, email, firstname, lastname)"
   ]
  }
 ],
 "metadata": {
  "kernelspec": {
   "display_name": "Python 3",
   "language": "python",
   "name": "python3"
  },
  "language_info": {
   "codemirror_mode": {
    "name": "ipython",
    "version": 3
   },
   "file_extension": ".py",
   "mimetype": "text/x-python",
   "name": "python",
   "nbconvert_exporter": "python",
   "pygments_lexer": "ipython3",
   "version": "3.8.6"
  }
 },
 "nbformat": 4,
 "nbformat_minor": 4
}
