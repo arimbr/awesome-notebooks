{
 "cells": [
  {
   "cell_type": "markdown",
   "metadata": {},
   "source": [
    "<img width=\"10%\" alt=\"Naas\" src=\"https://landen.imgix.net/jtci2pxwjczr/assets/5ice39g4.png?w=160\"/>"
   ]
  },
  {
   "cell_type": "code",
   "execution_count": null,
   "metadata": {},
   "outputs": [],
   "source": [
    "%run _Thinkific_Driver.ipynb"
   ]
  },
  {
   "cell_type": "markdown",
   "metadata": {},
   "source": [
    "# Thinkific - Update enrollment"
   ]
  },
  {
   "cell_type": "code",
   "execution_count": null,
   "metadata": {},
   "outputs": [],
   "source": [
    "from naas_drivers import *\n",
    "\n",
    "# Run notebook to get credentials\n",
    "%run _Thinkific_Credentials.ipynb\n",
    "\n",
    "# Connect to thinkific\n",
    "tk = thinkific.connect(auth_token, subdomain)"
   ]
  },
  {
   "cell_type": "code",
   "execution_count": null,
   "metadata": {},
   "outputs": [],
   "source": [
    "# Enrollment parameters\n",
    "enrollment_id = 102495997\n",
    "activated = \"01/10/2020\"\n",
    "expired = \"31/12/2020\""
   ]
  },
  {
   "cell_type": "code",
   "execution_count": null,
   "metadata": {},
   "outputs": [],
   "source": [
    "# With patch method\n",
    "update_enrollment = {\n",
    "                      \"id\": enrollment_id,\n",
    "                      \"activated_at\": activated,\n",
    "                      \"expiry_date\": expired,\n",
    "                    }\n",
    "\n",
    "tk.enrollments.patch(update_enrollment)"
   ]
  },
  {
   "cell_type": "code",
   "execution_count": null,
   "metadata": {},
   "outputs": [],
   "source": [
    "# With update method\n",
    "tk.enrollments.update(enrollment_id, activated, expired)"
   ]
  }
 ],
 "metadata": {
  "kernelspec": {
   "display_name": "Python 3",
   "language": "python",
   "name": "python3"
  },
  "language_info": {
   "codemirror_mode": {
    "name": "ipython",
    "version": 3
   },
   "file_extension": ".py",
   "mimetype": "text/x-python",
   "name": "python",
   "nbconvert_exporter": "python",
   "pygments_lexer": "ipython3",
   "version": "3.8.6"
  }
 },
 "nbformat": 4,
 "nbformat_minor": 4
}
