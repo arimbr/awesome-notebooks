{
 "cells": [
  {
   "cell_type": "markdown",
   "metadata": {},
   "source": [
    "<img width=\"10%\" alt=\"Naas\" src=\"https://landen.imgix.net/jtci2pxwjczr/assets/5ice39g4.png?w=160\"/>"
   ]
  },
  {
   "cell_type": "code",
   "execution_count": 1,
   "metadata": {},
   "outputs": [],
   "source": [
    "%run _Thinkific_Driver.ipynb"
   ]
  },
  {
   "cell_type": "markdown",
   "metadata": {},
   "source": [
    "# Thinkific - Update user"
   ]
  },
  {
   "cell_type": "code",
   "execution_count": 2,
   "metadata": {},
   "outputs": [],
   "source": [
    "from naas_drivers import *\n",
    "\n",
    "# Run notebook to get credentials\n",
    "%run _Thinkific_Credentials.ipynb\n",
    "\n",
    "# Connect to thinkific\n",
    "tk = thinkific.connect(auth_token, subdomain)"
   ]
  },
  {
   "cell_type": "code",
   "execution_count": 3,
   "metadata": {},
   "outputs": [],
   "source": [
    "# User parameters\n",
    "user_id = 33984896\n",
    "email = \"bob@example.com\"\n",
    "password = \"password\"\n",
    "first_name = \"Bob App\"\n",
    "last_name = \"Smith\"\n",
    "company = None"
   ]
  },
  {
   "cell_type": "code",
   "execution_count": 4,
   "metadata": {},
   "outputs": [
    {
     "name": "stdout",
     "output_type": "stream",
     "text": [
      "User 'bob@example.com' (id=33984896) updated.\n"
     ]
    }
   ],
   "source": [
    "# With patch method\n",
    "update_user = {\n",
    "                \"id\": user_id,\n",
    "                \"email\": email,\n",
    "                \"password\": password,\n",
    "                \"first_name\": first_name,\n",
    "                \"last_name\": last_name,\n",
    "                \"company\": company,\n",
    "               }\n",
    "\n",
    "tk.users.patch(update_user)"
   ]
  },
  {
   "cell_type": "code",
   "execution_count": 5,
   "metadata": {},
   "outputs": [
    {
     "name": "stdout",
     "output_type": "stream",
     "text": [
      "User 'bob@example.com' (id=33984896) updated.\n"
     ]
    }
   ],
   "source": [
    "# With update method\n",
    "tk.users.update(user_id, email, password, first_name, last_name, company)"
   ]
  }
 ],
 "metadata": {
  "kernelspec": {
   "display_name": "Python 3",
   "language": "python",
   "name": "python3"
  },
  "language_info": {
   "codemirror_mode": {
    "name": "ipython",
    "version": 3
   },
   "file_extension": ".py",
   "mimetype": "text/x-python",
   "name": "python",
   "nbconvert_exporter": "python",
   "pygments_lexer": "ipython3",
   "version": "3.8.6"
  }
 },
 "nbformat": 4,
 "nbformat_minor": 4
}
